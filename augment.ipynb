{
 "cells": [
  {
   "cell_type": "code",
   "execution_count": 1,
   "metadata": {},
   "outputs": [],
   "source": [
    "import os\n",
    "from PIL import Image"
   ]
  },
  {
   "cell_type": "code",
   "execution_count": 6,
   "metadata": {},
   "outputs": [],
   "source": [
    "FOLDER_PATH = r'C:\\Users\\Axioo Pongo\\Documents\\GitHub\\breast-cancer-rf\\dataset_breast_cancer_augmented\\normal'\n",
    "OUTPUT_PATH = r'C:\\Users\\Axioo Pongo\\Documents\\GitHub\\breast-cancer-rf\\dataset_breast_cancer_augmented\\normal'"
   ]
  },
  {
   "cell_type": "code",
   "execution_count": 7,
   "metadata": {},
   "outputs": [],
   "source": [
    "for i, filename in enumerate(os.listdir(FOLDER_PATH)):\n",
    "    # Open the image\n",
    "    img = Image.open(os.path.join(FOLDER_PATH, filename))\n",
    "    \n",
    "    if img.mode == 'RGBA':\n",
    "        img = img.convert('RGB')\n",
    "    \n",
    "    # Flip the image horizontally\n",
    "    flipped_img = img.transpose(Image.FLIP_LEFT_RIGHT)\n",
    "    \n",
    "    # Save the flipped image to the output directory\n",
    "    flipped_img.save(os.path.join(OUTPUT_PATH, f'{i}_flipped.jpg'))\n",
    "    \n",
    "#         # Flip the image vertically\n",
    "#     flipped_img = img.transpose(Image.FLIP_TOP_BOTTOM)\n",
    "    \n",
    "#     # Save the flipped image to the output directory\n",
    "#     flipped_img.save(os.path.join(OUTPUT_PATH, f'{i}_flipped_vertically.jpg'))"
   ]
  }
 ],
 "metadata": {
  "kernelspec": {
   "display_name": ".venv",
   "language": "python",
   "name": "python3"
  },
  "language_info": {
   "codemirror_mode": {
    "name": "ipython",
    "version": 3
   },
   "file_extension": ".py",
   "mimetype": "text/x-python",
   "name": "python",
   "nbconvert_exporter": "python",
   "pygments_lexer": "ipython3",
   "version": "3.12.6"
  }
 },
 "nbformat": 4,
 "nbformat_minor": 2
}
