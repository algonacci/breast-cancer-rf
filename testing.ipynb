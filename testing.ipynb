{
 "cells": [
  {
   "cell_type": "code",
   "execution_count": 16,
   "metadata": {},
   "outputs": [],
   "source": [
    "import pickle\n",
    "\n",
    "with open('best_model.pkl', 'rb') as model_file:\n",
    "    loaded_model = pickle.load(model_file)"
   ]
  },
  {
   "cell_type": "code",
   "execution_count": 17,
   "metadata": {},
   "outputs": [],
   "source": [
    "with open('scaler.pkl', 'rb') as scaler_file:\n",
    "    scaler = pickle.load(scaler_file)"
   ]
  },
  {
   "cell_type": "code",
   "execution_count": 18,
   "metadata": {},
   "outputs": [],
   "source": [
    "import cv2\n",
    "import numpy as np\n",
    "from skimage.feature import graycomatrix, graycoprops, local_binary_pattern\n",
    "\n",
    "# Define GLCM parameters\n",
    "glcm_distances = [1, 2, 3, 4]\n",
    "glcm_angles = [0, np.pi/4, np.pi/2, 3*np.pi/4, np.pi, 5*np.pi/4, 3*np.pi/2]\n",
    "glcm_properties = ['contrast', 'homogeneity', 'energy', 'correlation', 'dissimilarity', 'ASM']\n",
    "hsv_properties = ['hue', 'saturation', 'value']\n",
    "\n",
    "# Function to extract features from a single image\n",
    "def extract_features(image_path, image_size=(256, 256)):\n",
    "    # Read the image\n",
    "    image = cv2.imread(image_path)\n",
    "    image = cv2.resize(image, image_size)\n",
    "\n",
    "    # Convert the image to HSV and grayscale\n",
    "    hsv_image = cv2.cvtColor(image, cv2.COLOR_BGR2HSV)\n",
    "    gray_image = cv2.cvtColor(image, cv2.COLOR_BGR2GRAY)\n",
    "\n",
    "    # --- Extract HSV Features (mean and std) ---\n",
    "    hsv_features = []\n",
    "    for property_name in hsv_properties:\n",
    "        property_value = hsv_image[:, :, hsv_properties.index(property_name)].ravel()\n",
    "        hsv_features.extend([np.mean(property_value), np.std(property_value)])\n",
    "\n",
    "    # --- Extract GLCM Features ---\n",
    "    glcm = graycomatrix(gray_image, distances=glcm_distances, angles=glcm_angles, symmetric=True, normed=True)\n",
    "    glcm_features = []\n",
    "    for property_name in glcm_properties:\n",
    "        property_value = graycoprops(glcm, property_name).ravel()\n",
    "        glcm_features.extend([np.mean(property_value), np.std(property_value)])\n",
    "\n",
    "    # --- Extract Color Histogram Features ---\n",
    "    hist = cv2.calcHist([hsv_image], [0, 1, 2], None, [8, 8, 8], [0, 180, 0, 256, 0, 256])\n",
    "    color_histogram_features = cv2.normalize(hist, hist).flatten()\n",
    "\n",
    "    # --- Extract LBP Features ---\n",
    "    lbp = local_binary_pattern(gray_image, 24, 3, method=\"uniform\")\n",
    "    (lbp_hist, _) = np.histogram(lbp.ravel(), bins=np.arange(0, 24 + 3), range=(0, 24 + 2))\n",
    "    lbp_hist = lbp_hist.astype(\"float\")\n",
    "    lbp_hist /= (lbp_hist.sum() + 1e-7)  # Normalize the histogram\n",
    "    lbp_features = lbp_hist\n",
    "\n",
    "    # --- Extract Sobel Edge Features ---\n",
    "    sobelx = cv2.Sobel(gray_image, cv2.CV_64F, 1, 0, ksize=3)\n",
    "    sobely = cv2.Sobel(gray_image, cv2.CV_64F, 0, 1, ksize=3)\n",
    "    sobelx_mean, sobelx_std = np.mean(sobelx), np.std(sobelx)\n",
    "    sobely_mean, sobely_std = np.mean(sobely), np.std(sobely)\n",
    "    sobel_features = [sobelx_mean, sobelx_std, sobely_mean, sobely_std]\n",
    "\n",
    "    # Combine all features\n",
    "    combined_features = np.concatenate([hsv_features, glcm_features, color_histogram_features, lbp_features, sobel_features])\n",
    "    \n",
    "    return combined_features\n"
   ]
  },
  {
   "cell_type": "code",
   "execution_count": 22,
   "metadata": {},
   "outputs": [
    {
     "name": "stdout",
     "output_type": "stream",
     "text": [
      "The predicted class for ganas.jpg is: ganas\n",
      "The predicted class for ganas_1.jpg is: ganas\n",
      "The predicted class for jinak.jpg is: jinak\n",
      "The predicted class for jinak_1.jpg is: jinak\n",
      "The predicted class for normal.jpg is: normal\n",
      "The predicted class for normal_1.jpg is: normal\n"
     ]
    }
   ],
   "source": [
    "import os\n",
    "\n",
    "# Define the class names\n",
    "class_names = ['ganas', 'jinak', 'normal']\n",
    "\n",
    "\n",
    "def predict_image(image_path):\n",
    "    # Extract features from the image\n",
    "    features = extract_features(image_path).reshape(1, -1)\n",
    "    \n",
    "    # Scale the features using the loaded scaler\n",
    "    features_scaled = scaler.transform(features)\n",
    "    \n",
    "    # Predict using the loaded model\n",
    "    predicted_class_index = loaded_model.predict(features_scaled)[0]\n",
    "    predicted_class = class_names[predicted_class_index]\n",
    "    \n",
    "    return predicted_class\n",
    "\n",
    "\n",
    "# List of test images\n",
    "test_images = ['data_test/ganas.jpg', 'data_test/ganas_1.jpg', 'data_test/jinak.jpg', 'data_test/jinak_1.jpg', 'data_test/normal.jpg', 'data_test/normal_1.jpg']\n",
    "\n",
    "# Predict and print the results\n",
    "for image_path in test_images:\n",
    "    prediction = predict_image(image_path)\n",
    "    print(f\"The predicted class for {os.path.basename(image_path)} is: {prediction}\")\n"
   ]
  }
 ],
 "metadata": {
  "kernelspec": {
   "display_name": ".venv",
   "language": "python",
   "name": "python3"
  },
  "language_info": {
   "codemirror_mode": {
    "name": "ipython",
    "version": 3
   },
   "file_extension": ".py",
   "mimetype": "text/x-python",
   "name": "python",
   "nbconvert_exporter": "python",
   "pygments_lexer": "ipython3",
   "version": "3.12.6"
  }
 },
 "nbformat": 4,
 "nbformat_minor": 2
}
